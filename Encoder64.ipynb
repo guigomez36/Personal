{
  "nbformat": 4,
  "nbformat_minor": 0,
  "metadata": {
    "colab": {
      "provenance": [],
      "collapsed_sections": [],
      "mount_file_id": "1ksgLTwpjaCNaPyzZ_u9kmvNMFC-S6IqL",
      "authorship_tag": "ABX9TyMmwgkcWa4ChR59JZwqrvqP",
      "include_colab_link": true
    },
    "kernelspec": {
      "name": "python3",
      "display_name": "Python 3"
    },
    "language_info": {
      "name": "python"
    },
    "accelerator": "GPU"
  },
  "cells": [
    {
      "cell_type": "markdown",
      "metadata": {
        "id": "view-in-github",
        "colab_type": "text"
      },
      "source": [
        "<a href=\"https://colab.research.google.com/github/guigomez36/Personal/blob/main/Encoder64.ipynb\" target=\"_parent\"><img src=\"https://colab.research.google.com/assets/colab-badge.svg\" alt=\"Open In Colab\"/></a>"
      ]
    },
    {
      "cell_type": "code",
      "execution_count": 1,
      "metadata": {
        "id": "GsCjwawLi9Dz"
      },
      "outputs": [],
      "source": [
        "import pandas as pd\n",
        "import tensorflow as tf\n",
        "from tensorflow.keras import layers, losses\n",
        "from tensorflow.keras.models import Model\n",
        "import os \n",
        "import matplotlib.pyplot as plt\n",
        "import numpy as np"
      ]
    },
    {
      "cell_type": "code",
      "source": [
        "dataset = pd.read_csv(\"/content/drive/MyDrive/Colab Notebooks/DMEyF/competencia2/datasets_competencia2_2022.csv.gz\", low_memory=False)\n"
      ],
      "metadata": {
        "id": "OPM2t9GMh5EM"
      },
      "execution_count": 4,
      "outputs": []
    },
    {
      "cell_type": "markdown",
      "source": [
        "entreno el encoder con todo el dataset para agregar los features"
      ],
      "metadata": {
        "id": "tjSKShxjlPT6"
      }
    },
    {
      "cell_type": "code",
      "source": [
        "\n",
        "# creo clase binaria BAJA+1 y BAJA +2 vs CONTINUA\n",
        "dataset[\"clase_binaria\"] = dataset[\"clase_ternaria\"].apply(lambda x: 0 if x==\"CONTINUA\" else 1) #CLASE COMBINADA\n",
        "\n",
        "dataset=dataset.fillna(0) # RELLENO CON 0 LOS NULOS, LO NECESITA LA RED\n",
        "\n",
        "# quito columnas que no usare en la red\n",
        "drop = [\"clase_binaria\",\"clase_ternaria\",\"foto_mes\",\"numero_de_cliente\"]\n",
        "\n",
        "X_dataset = dataset[dataset.columns.drop(drop)]\n",
        "y_dataset = dataset[\"clase_binaria\"]\n",
        "\n",
        "# ESCALADO DE FEATURES\n",
        "train_max = X_dataset.max()\n",
        "train_min = X_dataset.min()\n",
        "\n",
        "#escalo dataset para CNN\n",
        "X_dataset_data = (X_dataset - train_min)/(train_max - train_min)\n",
        "\n",
        "X_dataset_data= tf.cast(X_dataset_data, tf.float32)\n",
        "#y_dataset = tf.cast(y_dataset, tf.float32)"
      ],
      "metadata": {
        "id": "H2bv43sVkOus"
      },
      "execution_count": 5,
      "outputs": []
    },
    {
      "cell_type": "markdown",
      "source": [
        "encoder 152 x 64 x 152 (una capa)"
      ],
      "metadata": {
        "id": "4vbXCc6OhsSa"
      }
    },
    {
      "cell_type": "code",
      "source": [
        "from keras.layers import Input,Dense\n",
        "from keras.models import Model\n",
        "\n",
        "# number of neurons in the encoding hidden layer\n",
        "encoding_dim = 64\n",
        "# input placeholder\n",
        "input_data = Input(shape=(152,)) # 6 is the number of features/columns\n",
        "# encoder is the encoded representation of the input\n",
        "encoded = Dense(encoding_dim, activation ='relu')(input_data)\n",
        "# decoder is the lossy reconstruction of the input\n",
        "decoded = Dense(152, activation ='sigmoid')(encoded) # 6 again number of features and should match input_data\n",
        "\n",
        "# this model maps an input to its reconstruction\n",
        "autoencoder = Model(input_data, decoded)\n",
        "\n",
        "# this model maps an input to its encoded representation\n",
        "encoder = Model(input_data, encoded)\n",
        "# model optimizer and loss\n",
        "autoencoder = Model(input_data, decoded)\n",
        "\n",
        "# loss function and optimizer\n",
        "autoencoder.compile(optimizer='adam', loss='mae')\n",
        "#autoencoder.compile(optimizer='adadelta', loss='binary_crossentropy')\n",
        "\n",
        "# train test split\n",
        "#from sklearn.model_selection import train_test_split\n",
        "#x_train, x_test, = train_test_split(data, test_size=0.1, random_state=42)\n",
        "\n",
        "\n",
        "# train the model\n",
        "history=autoencoder.fit(X_dataset_data,\n",
        "                X_dataset_data,\n",
        "                epochs=20,\n",
        "                batch_size=256,\n",
        "                shuffle=True)\n",
        "\n",
        "autoencoder.summary()\n",
        "\n",
        "# predict after training\n",
        "# note that we take them from the *test* set\n",
        "#encoded_data = encoder.predict(X_dataset_data)\n",
        "#plt.plot(history.history[\"loss\"], label=\"Training Loss\")"
      ],
      "metadata": {
        "colab": {
          "base_uri": "https://localhost:8080/",
          "height": 1000
        },
        "id": "MKCWC9fWhp-C",
        "outputId": "6f908c8c-0518-4c18-b613-1472dbc84638"
      },
      "execution_count": 6,
      "outputs": [
        {
          "output_type": "stream",
          "name": "stdout",
          "text": [
            "Epoch 1/20\n",
            "3177/3177 [==============================] - 12s 3ms/step - loss: 0.0153\n",
            "Epoch 2/20\n",
            "3177/3177 [==============================] - 8s 3ms/step - loss: 0.0061\n",
            "Epoch 3/20\n",
            "3177/3177 [==============================] - 8s 3ms/step - loss: 0.0059\n",
            "Epoch 4/20\n",
            "3177/3177 [==============================] - 8s 3ms/step - loss: 0.0058\n",
            "Epoch 5/20\n",
            "3177/3177 [==============================] - 8s 3ms/step - loss: 0.0057\n",
            "Epoch 6/20\n",
            "3177/3177 [==============================] - 8s 3ms/step - loss: 0.0056\n",
            "Epoch 7/20\n",
            "3177/3177 [==============================] - 8s 3ms/step - loss: 0.0056\n",
            "Epoch 8/20\n",
            "3177/3177 [==============================] - 8s 3ms/step - loss: 0.0056\n",
            "Epoch 9/20\n",
            "3177/3177 [==============================] - 8s 2ms/step - loss: 0.0055\n",
            "Epoch 10/20\n",
            "3177/3177 [==============================] - 8s 3ms/step - loss: 0.0055\n",
            "Epoch 11/20\n",
            "3177/3177 [==============================] - 8s 2ms/step - loss: 0.0055\n",
            "Epoch 12/20\n",
            "3177/3177 [==============================] - 8s 3ms/step - loss: 0.0054\n",
            "Epoch 13/20\n",
            "3177/3177 [==============================] - 8s 2ms/step - loss: 0.0053\n",
            "Epoch 14/20\n",
            "3177/3177 [==============================] - 8s 2ms/step - loss: 0.0053\n",
            "Epoch 15/20\n",
            "3177/3177 [==============================] - 8s 2ms/step - loss: 0.0052\n",
            "Epoch 16/20\n",
            "3177/3177 [==============================] - 8s 3ms/step - loss: 0.0052\n",
            "Epoch 17/20\n",
            "3177/3177 [==============================] - 8s 2ms/step - loss: 0.0051\n",
            "Epoch 18/20\n",
            "3177/3177 [==============================] - 8s 2ms/step - loss: 0.0051\n",
            "Epoch 19/20\n",
            "3177/3177 [==============================] - 8s 2ms/step - loss: 0.0051\n",
            "Epoch 20/20\n",
            "3177/3177 [==============================] - 8s 2ms/step - loss: 0.0051\n",
            "Model: \"model_2\"\n",
            "_________________________________________________________________\n",
            " Layer (type)                Output Shape              Param #   \n",
            "=================================================================\n",
            " input_1 (InputLayer)        [(None, 152)]             0         \n",
            "                                                                 \n",
            " dense (Dense)               (None, 64)                9792      \n",
            "                                                                 \n",
            " dense_1 (Dense)             (None, 152)               9880      \n",
            "                                                                 \n",
            "=================================================================\n",
            "Total params: 19,672\n",
            "Trainable params: 19,672\n",
            "Non-trainable params: 0\n",
            "_________________________________________________________________\n"
          ]
        },
        {
          "output_type": "execute_result",
          "data": {
            "text/plain": [
              "[<matplotlib.lines.Line2D at 0x7fc42020f690>]"
            ]
          },
          "metadata": {},
          "execution_count": 6
        },
        {
          "output_type": "display_data",
          "data": {
            "text/plain": [
              "<Figure size 432x288 with 1 Axes>"
            ],
            "image/png": "[encoded data removed]"
          },
          "metadata": {
            "needs_background": "light"
          }
        }
      ]
    },
    {
      "cell_type": "code",
      "source": [
        "encoded_data = encoder.predict(X_dataset_data)"
      ],
      "metadata": {
        "colab": {
          "base_uri": "https://localhost:8080/"
        },
        "id": "E2qb--8zQN3R",
        "outputId": "4787f5d8-ff56-435c-c759-e7e1b000bdd6"
      },
      "execution_count": 7,
      "outputs": [
        {
          "output_type": "stream",
          "name": "stdout",
          "text": [
            "25413/25413 [==============================] - 29s 1ms/step\n"
          ]
        }
      ]
    },
    {
      "cell_type": "code",
      "source": [
        "col=[]\n",
        "for i in range(0,64):\n",
        "  col.append('col' + str(i))\n",
        "  #print (i)"
      ],
      "metadata": {
        "id": "veGcPVoZ_KxZ"
      },
      "execution_count": 8,
      "outputs": []
    },
    {
      "cell_type": "code",
      "source": [
        "encoded_data1 = pd.DataFrame(encoded_data, columns=col)"
      ],
      "metadata": {
        "id": "4Hkk8yil-Ngv"
      },
      "execution_count": 9,
      "outputs": []
    },
    {
      "cell_type": "code",
      "source": [
        "res=pd.concat([dataset,encoded_data1],axis=1)"
      ],
      "metadata": {
        "id": "SYd6kM8fmb8u"
      },
      "execution_count": 10,
      "outputs": []
    },
    {
      "cell_type": "code",
      "source": [
        "res.head()"
      ],
      "metadata": {
        "colab": {
          "base_uri": "https://localhost:8080/",
          "height": 300
        },
        "id": "Zs3sLyF3SEIJ",
        "outputId": "8e7f31c2-36af-406c-c698-ebfe63caa8ac"
      },
      "execution_count": 11,
      "outputs": [
        {
          "output_type": "execute_result",
          "data": {
            "text/plain": [
              "   numero_de_cliente  foto_mes  active_quarter  cliente_vip  internet  \\\n",
              "0           31115668    202101               1            0         0   \n",
              "1           31115678    202101               1            0         0   \n",
              "2           31117415    202101               1            0         0   \n",
              "3           31117711    202101               1            0         0   \n",
              "4           31118145    202101               1            0         0   \n",
              "\n",
              "   cliente_edad  cliente_antiguedad  mrentabilidad  mrentabilidad_annual  \\\n",
              "0            56                 132        1897.12              24324.75   \n",
              "1            48                 100        -384.72              33860.45   \n",
              "2            60                  53       -3622.66             -21310.32   \n",
              "3            46                 273       14542.05             125727.99   \n",
              "4            47                 192        1868.27              37305.29   \n",
              "\n",
              "   mcomisiones  ...  col54     col55     col56     col57     col58     col59  \\\n",
              "0       940.32  ...    0.0  0.698471  0.577250  0.226030  0.642272  0.781393   \n",
              "1      -515.53  ...    0.0  0.264926  0.476182  0.951864  0.357612  0.715581   \n",
              "2      2442.04  ...    0.0  0.510652  0.249194  0.446248  0.645992  0.904999   \n",
              "3      1037.77  ...    0.0  0.762946  0.138546  0.536300  0.381061  0.689117   \n",
              "4      1496.68  ...    0.0  1.077486  0.165534  0.499103  0.397619  0.867552   \n",
              "\n",
              "      col60     col61     col62     col63  \n",
              "0  0.924623  0.483993  0.932576  0.671979  \n",
              "1  0.109994  0.769183  0.223742  0.495413  \n",
              "2  0.411627  0.700567  0.568078  0.584027  \n",
              "3  0.982969  0.584852  0.542698  1.142154  \n",
              "4  0.744869  0.515313  0.527497  0.769799  \n",
              "\n",
              "[5 rows x 220 columns]"
            ],
            "text/html": [
              "\n",
              "  <div id=\"df-554fbad2-e709-4764-a727-1252cdb55df8\">\n",
              "    <div class=\"colab-df-container\">\n",
              "      <div>\n",
              "<style scoped>\n",
              "    .dataframe tbody tr th:only-of-type {\n",
              "        vertical-align: middle;\n",
              "    }\n",
              "\n",
              "    .dataframe tbody tr th {\n",
              "        vertical-align: top;\n",
              "    }\n",
              "\n",
              "    .dataframe thead th {\n",
              "        text-align: right;\n",
              "    }\n",
              "</style>\n",
              "<table border=\"1\" class=\"dataframe\">\n",
              "  <thead>\n",
              "    <tr style=\"text-align: right;\">\n",
              "      <th></th>\n",
              "      <th>numero_de_cliente</th>\n",
              "      <th>foto_mes</th>\n",
              "      <th>active_quarter</th>\n",
              "      <th>cliente_vip</th>\n",
              "      <th>internet</th>\n",
              "      <th>cliente_edad</th>\n",
              "      <th>cliente_antiguedad</th>\n",
              "      <th>mrentabilidad</th>\n",
              "      <th>mrentabilidad_annual</th>\n",
              "      <th>mcomisiones</th>\n",
              "      <th>...</th>\n",
              "      <th>col54</th>\n",
              "      <th>col55</th>\n",
              "      <th>col56</th>\n",
              "      <th>col57</th>\n",
              "      <th>col58</th>\n",
              "      <th>col59</th>\n",
              "      <th>col60</th>\n",
              "      <th>col61</th>\n",
              "      <th>col62</th>\n",
              "      <th>col63</th>\n",
              "    </tr>\n",
              "  </thead>\n",
              "  <tbody>\n",
              "    <tr>\n",
              "      <th>0</th>\n",
              "      <td>31115668</td>\n",
              "      <td>202101</td>\n",
              "      <td>1</td>\n",
              "      <td>0</td>\n",
              "      <td>0</td>\n",
              "      <td>56</td>\n",
              "      <td>132</td>\n",
              "      <td>1897.12</td>\n",
              "      <td>24324.75</td>\n",
              "      <td>940.32</td>\n",
              "      <td>...</td>\n",
              "      <td>0.0</td>\n",
              "      <td>0.698471</td>\n",
              "      <td>0.577250</td>\n",
              "      <td>0.226030</td>\n",
              "      <td>0.642272</td>\n",
              "      <td>0.781393</td>\n",
              "      <td>0.924623</td>\n",
              "      <td>0.483993</td>\n",
              "      <td>0.932576</td>\n",
              "      <td>0.671979</td>\n",
              "    </tr>\n",
              "    <tr>\n",
              "      <th>1</th>\n",
              "      <td>31115678</td>\n",
              "      <td>202101</td>\n",
              "      <td>1</td>\n",
              "      <td>0</td>\n",
              "      <td>0</td>\n",
              "      <td>48</td>\n",
              "      <td>100</td>\n",
              "      <td>-384.72</td>\n",
              "      <td>33860.45</td>\n",
              "      <td>-515.53</td>\n",
              "      <td>...</td>\n",
              "      <td>0.0</td>\n",
              "      <td>0.264926</td>\n",
              "      <td>0.476182</td>\n",
              "      <td>0.951864</td>\n",
              "      <td>0.357612</td>\n",
              "      <td>0.715581</td>\n",
              "      <td>0.109994</td>\n",
              "      <td>0.769183</td>\n",
              "      <td>0.223742</td>\n",
              "      <td>0.495413</td>\n",
              "    </tr>\n",
              "    <tr>\n",
              "      <th>2</th>\n",
              "      <td>31117415</td>\n",
              "      <td>202101</td>\n",
              "      <td>1</td>\n",
              "      <td>0</td>\n",
              "      <td>0</td>\n",
              "      <td>60</td>\n",
              "      <td>53</td>\n",
              "      <td>-3622.66</td>\n",
              "      <td>-21310.32</td>\n",
              "      <td>2442.04</td>\n",
              "      <td>...</td>\n",
              "      <td>0.0</td>\n",
              "      <td>0.510652</td>\n",
              "      <td>0.249194</td>\n",
              "      <td>0.446248</td>\n",
              "      <td>0.645992</td>\n",
              "      <td>0.904999</td>\n",
              "      <td>0.411627</td>\n",
              "      <td>0.700567</td>\n",
              "      <td>0.568078</td>\n",
              "      <td>0.584027</td>\n",
              "    </tr>\n",
              "    <tr>\n",
              "      <th>3</th>\n",
              "      <td>31117711</td>\n",
              "      <td>202101</td>\n",
              "      <td>1</td>\n",
              "      <td>0</td>\n",
              "      <td>0</td>\n",
              "      <td>46</td>\n",
              "      <td>273</td>\n",
              "      <td>14542.05</td>\n",
              "      <td>125727.99</td>\n",
              "      <td>1037.77</td>\n",
              "      <td>...</td>\n",
              "      <td>0.0</td>\n",
              "      <td>0.762946</td>\n",
              "      <td>0.138546</td>\n",
              "      <td>0.536300</td>\n",
              "      <td>0.381061</td>\n",
              "      <td>0.689117</td>\n",
              "      <td>0.982969</td>\n",
              "      <td>0.584852</td>\n",
              "      <td>0.542698</td>\n",
              "      <td>1.142154</td>\n",
              "    </tr>\n",
              "    <tr>\n",
              "      <th>4</th>\n",
              "      <td>31118145</td>\n",
              "      <td>202101</td>\n",
              "      <td>1</td>\n",
              "      <td>0</td>\n",
              "      <td>0</td>\n",
              "      <td>47</td>\n",
              "      <td>192</td>\n",
              "      <td>1868.27</td>\n",
              "      <td>37305.29</td>\n",
              "      <td>1496.68</td>\n",
              "      <td>...</td>\n",
              "      <td>0.0</td>\n",
              "      <td>1.077486</td>\n",
              "      <td>0.165534</td>\n",
              "      <td>0.499103</td>\n",
              "      <td>0.397619</td>\n",
              "      <td>0.867552</td>\n",
              "      <td>0.744869</td>\n",
              "      <td>0.515313</td>\n",
              "      <td>0.527497</td>\n",
              "      <td>0.769799</td>\n",
              "    </tr>\n",
              "  </tbody>\n",
              "</table>\n",
              "<p>5 rows × 220 columns</p>\n",
              "</div>\n",
              "      <button class=\"colab-df-convert\" onclick=\"convertToInteractive('df-554fbad2-e709-4764-a727-1252cdb55df8')\"\n",
              "              title=\"Convert this dataframe to an interactive table.\"\n",
              "              style=\"display:none;\">\n",
              "        \n",
              "  <svg xmlns=\"http://www.w3.org/2000/svg\" height=\"24px\"viewBox=\"0 0 24 24\"\n",
              "       width=\"24px\">\n",
              "    <path d=\"M0 0h24v24H0V0z\" fill=\"none\"/>\n",
              "    <path d=\"M18.56 5.44l.94 2.06.94-2.06 2.06-.94-2.06-.94-.94-2.06-.94 2.06-2.06.94zm-11 1L8.5 8.5l.94-2.06 2.06-.94-2.06-.94L8.5 2.5l-.94 2.06-2.06.94zm10 10l.94 2.06.94-2.06 2.06-.94-2.06-.94-.94-2.06-.94 2.06-2.06.94z\"/><path d=\"M17.41 7.96l-1.37-1.37c-.4-.4-.92-.59-1.43-.59-.52 0-1.04.2-1.43.59L10.3 9.45l-7.72 7.72c-.78.78-.78 2.05 0 2.83L4 21.41c.39.39.9.59 1.41.59.51 0 1.02-.2 1.41-.59l7.78-7.78 2.81-2.81c.8-.78.8-2.07 0-2.86zM5.41 20L4 18.59l7.72-7.72 1.47 1.35L5.41 20z\"/>\n",
              "  </svg>\n",
              "      </button>\n",
              "      \n",
              "  <style>\n",
              "    .colab-df-container {\n",
              "      display:flex;\n",
              "      flex-wrap:wrap;\n",
              "      gap: 12px;\n",
              "    }\n",
              "\n",
              "    .colab-df-convert {\n",
              "      background-color: #E8F0FE;\n",
              "      border: none;\n",
              "      border-radius: 50%;\n",
              "      cursor: pointer;\n",
              "      display: none;\n",
              "      fill: #1967D2;\n",
              "      height: 32px;\n",
              "      padding: 0 0 0 0;\n",
              "      width: 32px;\n",
              "    }\n",
              "\n",
              "    .colab-df-convert:hover {\n",
              "      background-color: #E2EBFA;\n",
              "      box-shadow: 0px 1px 2px rgba(60, 64, 67, 0.3), 0px 1px 3px 1px rgba(60, 64, 67, 0.15);\n",
              "      fill: #174EA6;\n",
              "    }\n",
              "\n",
              "    [theme=dark] .colab-df-convert {\n",
              "      background-color: #3B4455;\n",
              "      fill: #D2E3FC;\n",
              "    }\n",
              "\n",
              "    [theme=dark] .colab-df-convert:hover {\n",
              "      background-color: #434B5C;\n",
              "      box-shadow: 0px 1px 3px 1px rgba(0, 0, 0, 0.15);\n",
              "      filter: drop-shadow(0px 1px 2px rgba(0, 0, 0, 0.3));\n",
              "      fill: #FFFFFF;\n",
              "    }\n",
              "  </style>\n",
              "\n",
              "      <script>\n",
              "        const buttonEl =\n",
              "          document.querySelector('#df-554fbad2-e709-4764-a727-1252cdb55df8 button.colab-df-convert');\n",
              "        buttonEl.style.display =\n",
              "          google.colab.kernel.accessAllowed ? 'block' : 'none';\n",
              "\n",
              "        async function convertToInteractive(key) {\n",
              "          const element = document.querySelector('#df-554fbad2-e709-4764-a727-1252cdb55df8');\n",
              "          const dataTable =\n",
              "            await google.colab.kernel.invokeFunction('convertToInteractive',\n",
              "                                                     [key], {});\n",
              "          if (!dataTable) return;\n",
              "\n",
              "          const docLinkHtml = 'Like what you see? Visit the ' +\n",
              "            '<a target=\"_blank\" href=https://colab.research.google.com/notebooks/data_table.ipynb>data table notebook</a>'\n",
              "            + ' to learn more about interactive tables.';\n",
              "          element.innerHTML = '';\n",
              "          dataTable['output_type'] = 'display_data';\n",
              "          await google.colab.output.renderOutput(dataTable, element);\n",
              "          const docLink = document.createElement('div');\n",
              "          docLink.innerHTML = docLinkHtml;\n",
              "          element.appendChild(docLink);\n",
              "        }\n",
              "      </script>\n",
              "    </div>\n",
              "  </div>\n",
              "  "
            ]
          },
          "metadata": {},
          "execution_count": 11
        }
      ]
    },
    {
      "cell_type": "code",
      "source": [
        "res.to_csv(\"/content/drive/MyDrive/Colab Notebooks/DMEyF/competencia2/datasets_competencia2_2022_vf.csv.gz\", index=False, compression=\"gzip\")"
      ],
      "metadata": {
        "id": "hdbG-m3qGPvC"
      },
      "execution_count": 12,
      "outputs": []
    },
    {
      "cell_type": "code",
      "source": [],
      "metadata": {
        "id": "dJKUIy7khGVR"
      },
      "execution_count": null,
      "outputs": []
    },
    {
      "cell_type": "code",
      "source": [],
      "metadata": {
        "id": "yV2P9KMeeDjf"
      },
      "execution_count": null,
      "outputs": []
    },
    {
      "cell_type": "code",
      "source": [],
      "metadata": {
        "id": "2zN6yVfkdxId"
      },
      "execution_count": null,
      "outputs": []
    },
    {
      "cell_type": "code",
      "source": [],
      "metadata": {
        "id": "yYYIPsUfc9Wr"
      },
      "execution_count": null,
      "outputs": []
    }
  ]
}