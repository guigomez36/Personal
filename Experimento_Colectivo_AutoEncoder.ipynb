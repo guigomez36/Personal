{
  "nbformat": 4,
  "nbformat_minor": 0,
  "metadata": {
    "colab": {
      "provenance": [],
      "mount_file_id": "1jMC9-jR0MOG1bYJOwEWW1K17A9REyjYy",
      "authorship_tag": "ABX9TyPtNVxJYL5xupiMJqZ7tu34",
      "include_colab_link": true
    },
    "kernelspec": {
      "name": "python3",
      "display_name": "Python 3"
    },
    "language_info": {
      "name": "python"
    }
  },
  "cells": [
    {
      "cell_type": "markdown",
      "metadata": {
        "id": "view-in-github",
        "colab_type": "text"
      },
      "source": [
        "<a href=\"https://colab.research.google.com/github/guigomez36/Personal/blob/main/Experimento_Colectivo_AutoEncoder.ipynb\" target=\"_parent\"><img src=\"https://colab.research.google.com/assets/colab-badge.svg\" alt=\"Open In Colab\"/></a>"
      ]
    },
    {
      "cell_type": "markdown",
      "source": [
        "Experimento: A partir de la aplicacion de un AutoEncoder surgio como posible aplicacion usar el encoder como generador de features adicionales (Feature Engineering) para luego ingresar ese dataset \"mejorado\" en un modelo de arboles del tipo LightGBM (lgbm).\n",
        "En este colab se prueban diferentes modelos de encoders variando las capaz intermedias (complejidad) y dimensiones obtenidas.\n",
        "Como medida de performance usamos el F1 score a la salida del arbol Lgbm.\n",
        "Se toman solo 10 Epochs en los modelos de CNN por razones de tiempo de computo.\n",
        "El Encoder que mejor resultado da (mejor score F1) a la salida del lgbm es del tipo 152 x 64 x 152. Es decir agregamos 64 features a los 152 originales."
      ],
      "metadata": {
        "id": "rokAR4kTofih"
      }
    },
    {
      "cell_type": "code",
      "execution_count": 1,
      "metadata": {
        "id": "GsCjwawLi9Dz"
      },
      "outputs": [],
      "source": [
        "import pandas as pd\n",
        "import tensorflow as tf\n",
        "from tensorflow.keras import layers, losses\n",
        "from tensorflow.keras.models import Model\n",
        "import os \n",
        "import matplotlib.pyplot as plt\n",
        "import numpy as np"
      ]
    },
    {
      "cell_type": "code",
      "source": [
        "dataset = pd.read_csv(\"/content/drive/MyDrive/Colab Notebooks/DMEyF/competencia2/competencia2_2022.csv\", low_memory=False)\n",
        "\n",
        "\n",
        "enero = dataset.loc[dataset[\"foto_mes\"]==202101]\n",
        "marzo = dataset.loc[dataset[\"foto_mes\"]==202103]\n"
      ],
      "metadata": {
        "id": "RJJ9TO-NjE6H"
      },
      "execution_count": 2,
      "outputs": []
    },
    {
      "cell_type": "code",
      "source": [
        "mayo['clase_ternaria'].unique()"
      ],
      "metadata": {
        "colab": {
          "base_uri": "https://localhost:8080/"
        },
        "id": "W7RG2y0MVpdF",
        "outputId": "1a015da3-de9e-4ad4-83f3-b9470d7b6575"
      },
      "execution_count": 3,
      "outputs": [
        {
          "output_type": "execute_result",
          "data": {
            "text/plain": [
              "array([nan], dtype=object)"
            ]
          },
          "metadata": {},
          "execution_count": 3
        }
      ]
    },
    {
      "cell_type": "code",
      "source": [
        "enero.shape"
      ],
      "metadata": {
        "colab": {
          "base_uri": "https://localhost:8080/"
        },
        "id": "pPBKFUvUxJLk",
        "outputId": "a27d60e6-da9c-4f5d-9555-7ce9b8819081"
      },
      "execution_count": 4,
      "outputs": [
        {
          "output_type": "execute_result",
          "data": {
            "text/plain": [
              "(161342, 155)"
            ]
          },
          "metadata": {},
          "execution_count": 4
        }
      ]
    },
    {
      "cell_type": "code",
      "source": [
        "enero=enero.fillna(0) # RELLENO CON 0 LOS NULOS, LO NECESITA LA RED\n",
        "marzo = marzo.fillna(0)\n"
      ],
      "metadata": {
        "id": "K9Pldp1JjE3m"
      },
      "execution_count": 5,
      "outputs": []
    },
    {
      "cell_type": "code",
      "source": [
        "dataset['foto_mes'].unique()"
      ],
      "metadata": {
        "colab": {
          "base_uri": "https://localhost:8080/"
        },
        "id": "upaDwkXHjE1W",
        "outputId": "4633fbfe-bf71-4988-a9f1-9bd0593a1fe5"
      },
      "execution_count": 6,
      "outputs": [
        {
          "output_type": "execute_result",
          "data": {
            "text/plain": [
              "array([202101, 202102, 202103, 202104, 202105])"
            ]
          },
          "metadata": {},
          "execution_count": 6
        }
      ]
    },
    {
      "cell_type": "code",
      "source": [
        "# creo clase binaria BAJA+1 y BAJA +2 vs CONTINUA\n",
        "marzo[\"clase_binaria\"] = marzo[\"clase_ternaria\"].apply(lambda x: 1 if x==\"CONTINUA\" else 0) #CLASE COMBINADA\n",
        "enero[\"clase_binaria\"] = enero[\"clase_ternaria\"].apply(lambda x: 1 if x==\"CONTINUA\" else 0)\n",
        "\n",
        "\n",
        "drop = [\"clase_binaria\",\"clase_ternaria\",\"foto_mes\",\"numero_de_cliente\"]\n",
        "X_train = enero[enero.columns.drop( drop)]\n",
        "y_train = enero[\"clase_binaria\"]\n",
        "X_test = marzo[marzo.columns.drop(drop)]\n",
        "y_test = marzo[\"clase_binaria\"]\n"
      ],
      "metadata": {
        "id": "zskJ6N0-jEy4"
      },
      "execution_count": 9,
      "outputs": []
    },
    {
      "cell_type": "code",
      "source": [
        "# ESCALADO DE FEATURES\n",
        "train_max = X_train.max()\n",
        "train_min = X_train.min()\n",
        "\n",
        "\n",
        "train_data = (X_train - train_min)/(train_max - train_min)\n",
        "test_data = (X_test - train_min)/(train_max - train_min)\n"
      ],
      "metadata": {
        "id": "ED6bvq09jEwe"
      },
      "execution_count": 11,
      "outputs": []
    },
    {
      "cell_type": "code",
      "source": [
        "train_data = tf.cast(train_data, tf.float32) # enero\n",
        "test_data = tf.cast(test_data, tf.float32) # marzo"
      ],
      "metadata": {
        "id": "m5VmAi5sntNZ"
      },
      "execution_count": 12,
      "outputs": []
    },
    {
      "cell_type": "code",
      "source": [
        "train_data.shape"
      ],
      "metadata": {
        "colab": {
          "base_uri": "https://localhost:8080/"
        },
        "id": "DDwJQ3I97MvB",
        "outputId": "e00f2c42-5d7c-464d-e5de-5f6cccd2e6a0"
      },
      "execution_count": 13,
      "outputs": [
        {
          "output_type": "execute_result",
          "data": {
            "text/plain": [
              "TensorShape([161342, 152])"
            ]
          },
          "metadata": {},
          "execution_count": 13
        }
      ]
    },
    {
      "cell_type": "code",
      "source": [
        "y_train.shape"
      ],
      "metadata": {
        "colab": {
          "base_uri": "https://localhost:8080/"
        },
        "id": "x_McKdXE7jH0",
        "outputId": "825b203b-4fcf-4b58-a341-b274374329b6"
      },
      "execution_count": 14,
      "outputs": [
        {
          "output_type": "execute_result",
          "data": {
            "text/plain": [
              "(161342,)"
            ]
          },
          "metadata": {},
          "execution_count": 14
        }
      ]
    },
    {
      "cell_type": "markdown",
      "source": [
        "Idea: Usar la capa intermedia del AutoEncoder como feature Engineering para un modelo light GBM (LGBM)"
      ],
      "metadata": {
        "id": "doiDwjujrFho"
      }
    },
    {
      "cell_type": "markdown",
      "source": [
        "![image.png](data:image/png;base64,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)"
      ],
      "metadata": {
        "id": "1d169MMryY6u"
      }
    },
    {
      "cell_type": "markdown",
      "source": [
        "![image.png](data:image/png;base64,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)"
      ],
      "metadata": {
        "id": "sB0ici98a2Uk"
      }
    },
    {
      "cell_type": "markdown",
      "source": [
        "encoder de train_data. dim 152 --> dim 32"
      ],
      "metadata": {
        "id": "KCR382yj8Oa5"
      }
    },
    {
      "cell_type": "code",
      "source": [
        "from keras.layers import Input,Dense\n",
        "from keras.models import Model\n",
        "\n",
        "# number of neurons in the encoding hidden layer\n",
        "encoding_dim = 64\n",
        "# input placeholder\n",
        "input_data = Input(shape=(152,)) # 6 is the number of features/columns\n",
        "# encoder is the encoded representation of the input\n",
        "encoded = Dense(encoding_dim, activation ='relu')(input_data)\n",
        "# decoder is the lossy reconstruction of the input\n",
        "decoded = Dense(152, activation ='sigmoid')(encoded) # 6 again number of features and should match input_data\n",
        "\n",
        "# this model maps an input to its reconstruction\n",
        "autoencoder = Model(input_data, decoded)\n",
        "\n",
        "# this model maps an input to its encoded representation\n",
        "encoder = Model(input_data, encoded)\n",
        "# model optimizer and loss\n",
        "autoencoder = Model(input_data, decoded)\n",
        "\n",
        "# loss function and optimizer\n",
        "autoencoder.compile(optimizer='adam', loss='mae')\n",
        "#autoencoder.compile(optimizer='adadelta', loss='binary_crossentropy')\n",
        "\n",
        "# train test split\n",
        "#from sklearn.model_selection import train_test_split\n",
        "#x_train, x_test, = train_test_split(data, test_size=0.1, random_state=42)\n",
        "\n",
        "\n",
        "# train the model\n",
        "history=autoencoder.fit(train_data,\n",
        "                train_data,\n",
        "                epochs=10,\n",
        "                batch_size=256,\n",
        "                shuffle=True)\n",
        "\n",
        "autoencoder.summary()\n",
        "\n",
        "# predict after training\n",
        "# note that we take them from the *test* set\n",
        "encoded_data = encoder.predict(train_data)"
      ],
      "metadata": {
        "colab": {
          "base_uri": "https://localhost:8080/"
        },
        "id": "QWR3Iuzfsr0y",
        "outputId": "431d2bcc-958d-4457-e6a8-dab8354eef28"
      },
      "execution_count": 79,
      "outputs": [
        {
          "output_type": "stream",
          "name": "stdout",
          "text": [
            "Epoch 1/10\n",
            "631/631 [==============================] - 3s 4ms/step - loss: 0.0427\n",
            "Epoch 2/10\n",
            "631/631 [==============================] - 2s 4ms/step - loss: 0.0139\n",
            "Epoch 3/10\n",
            "631/631 [==============================] - 2s 4ms/step - loss: 0.0125\n",
            "Epoch 4/10\n",
            "631/631 [==============================] - 4s 7ms/step - loss: 0.0107\n",
            "Epoch 5/10\n",
            "631/631 [==============================] - 3s 5ms/step - loss: 0.0091\n",
            "Epoch 6/10\n",
            "631/631 [==============================] - 3s 5ms/step - loss: 0.0077\n",
            "Epoch 7/10\n",
            "631/631 [==============================] - 2s 4ms/step - loss: 0.0073\n",
            "Epoch 8/10\n",
            "631/631 [==============================] - 2s 4ms/step - loss: 0.0070\n",
            "Epoch 9/10\n",
            "631/631 [==============================] - 6s 9ms/step - loss: 0.0068\n",
            "Epoch 10/10\n",
            "631/631 [==============================] - 4s 7ms/step - loss: 0.0067\n",
            "Model: \"model_33\"\n",
            "_________________________________________________________________\n",
            " Layer (type)                Output Shape              Param #   \n",
            "=================================================================\n",
            " input_19 (InputLayer)       [(None, 152)]             0         \n",
            "                                                                 \n",
            " dense_81 (Dense)            (None, 64)                9792      \n",
            "                                                                 \n",
            " dense_82 (Dense)            (None, 152)               9880      \n",
            "                                                                 \n",
            "=================================================================\n",
            "Total params: 19,672\n",
            "Trainable params: 19,672\n",
            "Non-trainable params: 0\n",
            "_________________________________________________________________\n",
            "5042/5042 [==============================] - 8s 2ms/step\n"
          ]
        }
      ]
    },
    {
      "cell_type": "code",
      "source": [
        "plt.plot(history.history[\"loss\"], label=\"Training Loss\")"
      ],
      "metadata": {
        "colab": {
          "base_uri": "https://localhost:8080/",
          "height": 282
        },
        "id": "1jtnVvaxklPr",
        "outputId": "9bf53688-51a1-4c65-a506-588a52357b33"
      },
      "execution_count": 80,
      "outputs": [
        {
          "output_type": "execute_result",
          "data": {
            "text/plain": [
              "[<matplotlib.lines.Line2D at 0x7fe9d1bbad90>]"
            ]
          },
          "metadata": {},
          "execution_count": 80
        },
        {
          "output_type": "display_data",
          "data": {
            "text/plain": [
              "<Figure size 432x288 with 1 Axes>"
            ],
            "image/png": "[encoded data removed]"
          },
          "metadata": {}
        }
      ]
    },
    {
      "cell_type": "markdown",
      "source": [
        "agrego la salida del encoder al dataset original como nuevas columnas"
      ],
      "metadata": {
        "id": "M8ls5aI18baa"
      }
    },
    {
      "cell_type": "code",
      "source": [
        "#agrego la salida del encoder al dataset original como nuevas columnas\n",
        "\n",
        "# convert it to tensorflow\n",
        "#tensor1 = tf.convert_to_tensor(numpy_array)\n",
        "encoded_data=tf.convert_to_tensor(encoded_data)\n",
        "encoded_data = tf.cast(encoded_data, tf.float32)\n",
        "res=tf.concat(axis=1,values=[encoded_data, train_data])\n",
        "\n",
        "#aplico lightgbm por default en python\n",
        "\n",
        "from sklearn import datasets\n",
        "from sklearn import metrics\n",
        "from sklearn.model_selection import train_test_split\n",
        "import matplotlib.pyplot as plt\n",
        "import seaborn as sns\n",
        "plt.style.use('ggplot')\n",
        "import lightgbm as ltb\n",
        "\n",
        "#lightgbm\n",
        "model_train = ltb.LGBMClassifier()\n",
        "model_train.fit(res, y_train)\n",
        "\n",
        "#calculo kpis de train (enero)\n",
        "predicted_y = model_train.predict(res)\n",
        "print(metrics.classification_report(y_train, predicted_y))\n",
        "cm_train=metrics.confusion_matrix(y_train, predicted_y)\n",
        "print(cm_train)"
      ],
      "metadata": {
        "id": "h7X5ovxwPjQE",
        "colab": {
          "base_uri": "https://localhost:8080/"
        },
        "outputId": "342819be-453a-4246-c54d-b20f4c570b2a"
      },
      "execution_count": 81,
      "outputs": [
        {
          "output_type": "stream",
          "name": "stdout",
          "text": [
            "              precision    recall  f1-score   support\n",
            "\n",
            "           0       0.85      0.24      0.38      1514\n",
            "           1       0.99      1.00      1.00    159828\n",
            "\n",
            "    accuracy                           0.99    161342\n",
            "   macro avg       0.92      0.62      0.69    161342\n",
            "weighted avg       0.99      0.99      0.99    161342\n",
            "\n",
            "[[   369   1145]\n",
            " [    64 159764]]\n"
          ]
        }
      ]
    },
    {
      "cell_type": "markdown",
      "source": [
        "entreno con los datos puros sin FE de CNN de dimensionalidad"
      ],
      "metadata": {
        "id": "cLzWTUisFkt-"
      }
    },
    {
      "cell_type": "code",
      "source": [
        "# dataset de train sin \"res\" que son los features de la CNN\n",
        "model_train_sin_res = ltb.LGBMClassifier()\n",
        "model_train_sin_res.fit(train_data, y_train)\n",
        "\n",
        "model_train_sin_res.fit(train_data, y_train)\n",
        "predicted_y1 = model_train_sin_res.predict(train_data)\n",
        "print(metrics.classification_report(y_train, predicted_y1))\n",
        "cm_train_sin_res=metrics.confusion_matrix(y_train, predicted_y1)\n",
        "print(cm_train_sin_res)"
      ],
      "metadata": {
        "id": "lQcM7OOB_eEm",
        "colab": {
          "base_uri": "https://localhost:8080/"
        },
        "outputId": "f0f7dc37-085a-4044-b1a4-501229560945"
      },
      "execution_count": 82,
      "outputs": [
        {
          "output_type": "stream",
          "name": "stdout",
          "text": [
            "              precision    recall  f1-score   support\n",
            "\n",
            "           0       0.77      0.22      0.34      1514\n",
            "           1       0.99      1.00      1.00    159828\n",
            "\n",
            "    accuracy                           0.99    161342\n",
            "   macro avg       0.88      0.61      0.67    161342\n",
            "weighted avg       0.99      0.99      0.99    161342\n",
            "\n",
            "[[   336   1178]\n",
            " [   102 159726]]\n"
          ]
        }
      ]
    },
    {
      "cell_type": "markdown",
      "source": [
        "ahora encode con datos de test"
      ],
      "metadata": {
        "id": "iKqpuc1Nrgwa"
      }
    },
    {
      "cell_type": "code",
      "source": [
        "from keras.layers import Input,Dense\n",
        "from keras.models import Model\n",
        "\n",
        "# number of neurons in the encoding hidden layer\n",
        "encoding_dim = 64\n",
        "# input placeholder\n",
        "input_data = Input(shape=(152,)) # 6 is the number of features/columns\n",
        "# encoder is the encoded representation of the input\n",
        "encoded = Dense(encoding_dim, activation ='relu')(input_data)\n",
        "# decoder is the lossy reconstruction of the input\n",
        "decoded = Dense(152, activation ='sigmoid')(encoded) # 6 again number of features and should match input_data\n",
        "\n",
        "# this model maps an input to its reconstruction\n",
        "autoencoder = Model(input_data, decoded)\n",
        "\n",
        "# this model maps an input to its encoded representation\n",
        "encoder = Model(input_data, encoded)\n",
        "# model optimizer and loss\n",
        "autoencoder = Model(input_data, decoded)\n",
        "\n",
        "# loss function and optimizer\n",
        "autoencoder.compile(optimizer='adam', loss='mae')\n",
        "#autoencoder.compile(optimizer='adadelta', loss='binary_crossentropy')\n",
        "\n",
        "# train test split\n",
        "#from sklearn.model_selection import train_test_split\n",
        "#x_train, x_test, = train_test_split(data, test_size=0.1, random_state=42)\n",
        "\n",
        "\n",
        "# train the model\n",
        "autoencoder.fit(test_data,\n",
        "                test_data,\n",
        "                epochs=10,\n",
        "                batch_size=256,\n",
        "                shuffle=True)\n",
        "\n",
        "autoencoder.summary()\n",
        "\n",
        "# predict after training\n",
        "# note that we take them from the *test* set\n",
        "encoded_data = encoder.predict(test_data)"
      ],
      "metadata": {
        "colab": {
          "base_uri": "https://localhost:8080/"
        },
        "id": "ZkqBV12Nq3sz",
        "outputId": "03487c81-951e-4fb0-f3c9-1c6b22a40bb8"
      },
      "execution_count": 83,
      "outputs": [
        {
          "output_type": "stream",
          "name": "stdout",
          "text": [
            "Epoch 1/10\n",
            "637/637 [==============================] - 3s 5ms/step - loss: 0.0435\n",
            "Epoch 2/10\n",
            "637/637 [==============================] - 3s 4ms/step - loss: 0.0131\n",
            "Epoch 3/10\n",
            "637/637 [==============================] - 3s 4ms/step - loss: 0.0118\n",
            "Epoch 4/10\n",
            "637/637 [==============================] - 3s 4ms/step - loss: 0.0102\n",
            "Epoch 5/10\n",
            "637/637 [==============================] - 4s 7ms/step - loss: 0.0079\n",
            "Epoch 6/10\n",
            "637/637 [==============================] - 3s 4ms/step - loss: 0.0074\n",
            "Epoch 7/10\n",
            "637/637 [==============================] - 3s 4ms/step - loss: 0.0072\n",
            "Epoch 8/10\n",
            "637/637 [==============================] - 3s 4ms/step - loss: 0.0071\n",
            "Epoch 9/10\n",
            "637/637 [==============================] - 3s 4ms/step - loss: 0.0070\n",
            "Epoch 10/10\n",
            "637/637 [==============================] - 3s 5ms/step - loss: 0.0070\n",
            "Model: \"model_36\"\n",
            "_________________________________________________________________\n",
            " Layer (type)                Output Shape              Param #   \n",
            "=================================================================\n",
            " input_20 (InputLayer)       [(None, 152)]             0         \n",
            "                                                                 \n",
            " dense_83 (Dense)            (None, 64)                9792      \n",
            "                                                                 \n",
            " dense_84 (Dense)            (None, 152)               9880      \n",
            "                                                                 \n",
            "=================================================================\n",
            "Total params: 19,672\n",
            "Trainable params: 19,672\n",
            "Non-trainable params: 0\n",
            "_________________________________________________________________\n",
            "5091/5091 [==============================] - 8s 2ms/step\n"
          ]
        }
      ]
    },
    {
      "cell_type": "markdown",
      "source": [
        "entreno el modelo con el dataset original de test + FE de encoder"
      ],
      "metadata": {
        "id": "OXzthEds4rF8"
      }
    },
    {
      "cell_type": "code",
      "source": [
        "encoded_data=tf.convert_to_tensor(encoded_data)\n",
        "encoded_data = tf.cast(encoded_data, tf.float32)\n",
        "\n",
        "res=tf.concat(axis=1,values=[encoded_data, test_data])\n",
        "\n",
        "\n",
        "model_test = ltb.LGBMClassifier()\n",
        "model_test.fit(res, y_test)\n",
        "\n",
        "\n",
        "predicted_y_test = model_test.predict(res)\n",
        "predicted_y_test_proba = model_test.predict_proba(res)\n",
        "\n",
        "print(metrics.classification_report(y_test, predicted_y_test))\n",
        "\n",
        "cm_test=metrics.confusion_matrix(y_test, predicted_y_test)\n",
        "print(cm_test)\n",
        "\n",
        "#ltb.plot_importance(model_test, max_num_features=10,figsize=(10, 9)) --> se pierde el mapeo de que es cada columna"
      ],
      "metadata": {
        "colab": {
          "base_uri": "https://localhost:8080/"
        },
        "id": "uldqsZTlq3qN",
        "outputId": "d2afcc51-9014-40f2-a7b5-282718791269"
      },
      "execution_count": 84,
      "outputs": [
        {
          "output_type": "stream",
          "name": "stdout",
          "text": [
            "              precision    recall  f1-score   support\n",
            "\n",
            "           0       0.74      0.25      0.37      1979\n",
            "           1       0.99      1.00      0.99    160921\n",
            "\n",
            "    accuracy                           0.99    162900\n",
            "   macro avg       0.87      0.62      0.68    162900\n",
            "weighted avg       0.99      0.99      0.99    162900\n",
            "\n",
            "[[   496   1483]\n",
            " [   172 160749]]\n"
          ]
        }
      ]
    },
    {
      "cell_type": "markdown",
      "source": [
        "dataset original de test sin FE"
      ],
      "metadata": {
        "id": "useO1J6M4xQc"
      }
    },
    {
      "cell_type": "code",
      "source": [
        "model_test_sin_res = ltb.LGBMClassifier()\n",
        "model_test_sin_res.fit(test_data, y_test)\n",
        "\n",
        "predicted_y_test_sin_res = model_test_sin_res.predict(test_data)\n",
        "print(metrics.classification_report(y_test, predicted_y_test_sin_res))\n",
        "\n",
        "cm_test_sin_res=metrics.confusion_matrix(y_test, predicted_y_test_sin_res)\n",
        "print(cm_test_sin_res)"
      ],
      "metadata": {
        "colab": {
          "base_uri": "https://localhost:8080/"
        },
        "id": "lBjnf4Etq3lQ",
        "outputId": "daae62b7-c073-4012-dc51-f117b962dcd1"
      },
      "execution_count": 28,
      "outputs": [
        {
          "output_type": "stream",
          "name": "stdout",
          "text": [
            "              precision    recall  f1-score   support\n",
            "\n",
            "           0       0.82      0.19      0.31      1979\n",
            "           1       0.99      1.00      0.99    160921\n",
            "\n",
            "    accuracy                           0.99    162900\n",
            "   macro avg       0.91      0.59      0.65    162900\n",
            "weighted avg       0.99      0.99      0.99    162900\n",
            "\n",
            "[[   377   1602]\n",
            " [    81 160840]]\n"
          ]
        }
      ]
    },
    {
      "cell_type": "markdown",
      "source": [
        "cuantos envios con p>0.025 considerando BAJA +1 y BAJA +2"
      ],
      "metadata": {
        "id": "gGmayNbWMlHo"
      }
    },
    {
      "cell_type": "code",
      "source": [
        "c=1\n",
        "for i in (predicted_y_test_proba):\n",
        "  #print(i[0])\n",
        "  if i[0]>0.025:\n",
        "    c=c+1\n",
        "print(c)"
      ],
      "metadata": {
        "id": "acReMYj3q3aQ",
        "colab": {
          "base_uri": "https://localhost:8080/"
        },
        "outputId": "d7132a03-5d9f-4c7a-e550-5b7c61ccf5d6"
      },
      "execution_count": 85,
      "outputs": [
        {
          "output_type": "stream",
          "name": "stdout",
          "text": [
            "13587\n"
          ]
        }
      ]
    },
    {
      "cell_type": "markdown",
      "source": [
        "![image.png](data:image/png;base64,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)"
      ],
      "metadata": {
        "id": "Iuu0DxwDUmFZ"
      }
    },
    {
      "cell_type": "markdown",
      "source": [
        "[[   496   1483]\n",
        "\n",
        "[   172 160749]]\n",
        "\n",
        " con FE\n"
      ],
      "metadata": {
        "id": "dxBvMfaRVFbY"
      }
    },
    {
      "cell_type": "code",
      "source": [
        "78000*496-2000*(1483)"
      ],
      "metadata": {
        "colab": {
          "base_uri": "https://localhost:8080/"
        },
        "id": "Jp3O35pvSZLD",
        "outputId": "4d78ce24-0336-445c-b344-f55ade50c6ea"
      },
      "execution_count": 86,
      "outputs": [
        {
          "output_type": "execute_result",
          "data": {
            "text/plain": [
              "35722000"
            ]
          },
          "metadata": {},
          "execution_count": 86
        }
      ]
    },
    {
      "cell_type": "markdown",
      "source": [
        "[[   377   1602]\n",
        "\n",
        "[    81 160840]]\n",
        "\n",
        "sin FE"
      ],
      "metadata": {
        "id": "8OgiWOWRVZt8"
      }
    },
    {
      "cell_type": "code",
      "source": [
        "78000*377-2000*(1602)"
      ],
      "metadata": {
        "colab": {
          "base_uri": "https://localhost:8080/"
        },
        "id": "OfFXNXuuUnC8",
        "outputId": "0a79f933-8c6a-48a1-bae5-c607e3c20c39"
      },
      "execution_count": 87,
      "outputs": [
        {
          "output_type": "execute_result",
          "data": {
            "text/plain": [
              "26202000"
            ]
          },
          "metadata": {},
          "execution_count": 87
        }
      ]
    },
    {
      "cell_type": "markdown",
      "source": [
        "prueba de decodificadores\n",
        "\n",
        "\n"
      ],
      "metadata": {
        "id": "VhHJ4-vKg-zf"
      }
    },
    {
      "cell_type": "code",
      "source": [
        "import keras\n",
        "from keras import layers\n",
        "import tensorflow as tf\n",
        "from tensorflow.keras import layers, losses\n",
        "from tensorflow.keras.models import Model\n",
        "\n",
        "from keras.layers import Input,Dense\n",
        "from keras.models import Model\n",
        "\n",
        "input_data = Input(shape=(152,))\n",
        "encoded = Dense(16, activation='relu')(input_data)\n",
        "#encoded = Dense(32, activation='relu')(encoded)\n",
        "#encoded = Dense(16, activation='relu')(encoded)\n",
        "\n",
        "#decoded = Dense(16, activation='relu')(encoded)\n",
        "#decoded = Dense(32, activation='relu')(encoded)\n",
        "decoded = Dense(16, activation='relu')(encoded)\n",
        "\n",
        "decoded = Dense(152, activation='sigmoid')(decoded)\n",
        "\n",
        "encoder=keras.Model(input_data, encoded)\n",
        "\n",
        "autoencoder = keras.Model(input_data, decoded)\n",
        "autoencoder.compile(optimizer='adam', loss='mae')\n",
        "\n",
        "# train the model\n",
        "autoencoder.fit(train_data,\n",
        "                train_data,\n",
        "                epochs=10,\n",
        "                batch_size=256,\n",
        "                shuffle=True)\n",
        "\n",
        "autoencoder.summary()\n",
        "\n",
        "# predict after training\n",
        "# note that we take them from the *test* set\n",
        "encoded_data = encoder.predict(train_data)\n",
        "\n",
        "# le aplico al encoded_data un arbol lgbm\n",
        "\n",
        "encoded_data=tf.convert_to_tensor(encoded_data)\n",
        "encoded_data = tf.cast(encoded_data, tf.float32)\n",
        "\n",
        "#add FE to dataset train\n",
        "res=tf.concat(axis=1,values=[encoded_data, train_data])\n",
        "\n",
        "#lgbm\n",
        "model = ltb.LGBMClassifier()\n",
        "model.fit(res, y_train)\n",
        "\n",
        "predicted_y = model.predict(res)\n",
        "print(metrics.classification_report(y_train, predicted_y))\n",
        "cm=metrics.confusion_matrix(y_train, predicted_y)\n",
        "print(cm)"
      ],
      "metadata": {
        "colab": {
          "base_uri": "https://localhost:8080/"
        },
        "id": "SH1NFqhXFKC5",
        "outputId": "2fe9e209-13d0-4d84-f161-f76c561ad0c4"
      },
      "execution_count": 73,
      "outputs": [
        {
          "output_type": "stream",
          "name": "stdout",
          "text": [
            "Epoch 1/10\n",
            "631/631 [==============================] - 3s 4ms/step - loss: 0.0556\n",
            "Epoch 2/10\n",
            "631/631 [==============================] - 2s 4ms/step - loss: 0.0156\n",
            "Epoch 3/10\n",
            "631/631 [==============================] - 2s 3ms/step - loss: 0.0148\n",
            "Epoch 4/10\n",
            "631/631 [==============================] - 2s 3ms/step - loss: 0.0145\n",
            "Epoch 5/10\n",
            "631/631 [==============================] - 2s 3ms/step - loss: 0.0143\n",
            "Epoch 6/10\n",
            "631/631 [==============================] - 2s 3ms/step - loss: 0.0140\n",
            "Epoch 7/10\n",
            "631/631 [==============================] - 2s 3ms/step - loss: 0.0139\n",
            "Epoch 8/10\n",
            "631/631 [==============================] - 2s 3ms/step - loss: 0.0136\n",
            "Epoch 9/10\n",
            "631/631 [==============================] - 2s 3ms/step - loss: 0.0132\n",
            "Epoch 10/10\n",
            "631/631 [==============================] - 2s 3ms/step - loss: 0.0128\n",
            "Model: \"model_27\"\n",
            "_________________________________________________________________\n",
            " Layer (type)                Output Shape              Param #   \n",
            "=================================================================\n",
            " input_17 (InputLayer)       [(None, 152)]             0         \n",
            "                                                                 \n",
            " dense_76 (Dense)            (None, 16)                2448      \n",
            "                                                                 \n",
            " dense_77 (Dense)            (None, 16)                272       \n",
            "                                                                 \n",
            " dense_78 (Dense)            (None, 152)               2584      \n",
            "                                                                 \n",
            "=================================================================\n",
            "Total params: 5,304\n",
            "Trainable params: 5,304\n",
            "Non-trainable params: 0\n",
            "_________________________________________________________________\n",
            "5042/5042 [==============================] - 7s 1ms/step\n",
            "              precision    recall  f1-score   support\n",
            "\n",
            "           0       0.75      0.21      0.33      1514\n",
            "           1       0.99      1.00      1.00    159828\n",
            "\n",
            "    accuracy                           0.99    161342\n",
            "   macro avg       0.87      0.60      0.66    161342\n",
            "weighted avg       0.99      0.99      0.99    161342\n",
            "\n",
            "[[   318   1196]\n",
            " [   104 159724]]\n"
          ]
        }
      ]
    },
    {
      "cell_type": "code",
      "source": [
        "encoded_data.shape"
      ],
      "metadata": {
        "id": "CSVndLPt5Gm8",
        "colab": {
          "base_uri": "https://localhost:8080/"
        },
        "outputId": "0a044632-de58-4fd2-ce0a-d0c5f42d3664"
      },
      "execution_count": 74,
      "outputs": [
        {
          "output_type": "execute_result",
          "data": {
            "text/plain": [
              "TensorShape([161342, 16])"
            ]
          },
          "metadata": {},
          "execution_count": 74
        }
      ]
    },
    {
      "cell_type": "markdown",
      "source": [
        "Experimento: existe alguna metrica que permita mejorar el desempeño del AutoEncoder propuesto?. El original usa como metrica de perdida el MAE, haremos una prueba con otras opciones.\n"
      ],
      "metadata": {
        "id": "YtAdbFjasNAh"
      }
    },
    {
      "cell_type": "code",
      "source": [
        "import pandas as pd\n",
        "import tensorflow as tf\n",
        "from tensorflow.keras import layers, losses\n",
        "from tensorflow.keras.models import Model\n",
        "import os \n",
        "import matplotlib.pyplot as plt\n",
        "import numpy as np"
      ],
      "metadata": {
        "id": "BH54Qbjk5GiL"
      },
      "execution_count": 88,
      "outputs": []
    },
    {
      "cell_type": "code",
      "source": [
        "train_labels = y_train.values.astype(bool)\n",
        "test_labels = y_test.values.astype(bool)\n",
        "\n",
        "normal_train_data = train_data[train_labels]\n",
        "normal_test_data = test_data[test_labels]\n",
        "\n",
        "anomalous_train_data = train_data[~train_labels]\n",
        "anomalous_test_data = test_data[~test_labels]"
      ],
      "metadata": {
        "id": "_uh-6XLbtrpO"
      },
      "execution_count": 89,
      "outputs": []
    },
    {
      "cell_type": "code",
      "source": [
        "class AnomalyDetector(Model):\n",
        "  def __init__(self):\n",
        "    super(AnomalyDetector, self).__init__()\n",
        "    self.encoder = tf.keras.Sequential([\n",
        "      layers.Flatten(),\n",
        "      layers.Dense(64,activation=\"relu\"),\n",
        "      layers.Dense(32, activation=\"relu\"),\n",
        "      layers.Dense(16, activation=\"relu\"),\n",
        "      layers.Dense(16, activation=\"relu\")])\n",
        "\n",
        "    self.decoder = tf.keras.Sequential([\n",
        "      layers.Dense(16, activation=\"relu\"),\n",
        "      layers.Dense(32, activation=\"relu\"),\n",
        "      layers.Dense(64,activation=\"relu\"),\n",
        "      layers.Dense(152, activation=\"sigmoid\")])\n",
        "\n",
        "  def call(self, x):\n",
        "    encoded = self.encoder(x)\n",
        "    decoded = self.decoder(encoded)\n",
        "    return decoded\n",
        "\n",
        "autoencoder = AnomalyDetector()"
      ],
      "metadata": {
        "id": "Gjsqi806sr-b"
      },
      "execution_count": 90,
      "outputs": []
    },
    {
      "cell_type": "code",
      "source": [
        "autoencoder.compile(optimizer='adam', loss='MeanSquaredError')"
      ],
      "metadata": {
        "id": "tNq4heersr59"
      },
      "execution_count": 91,
      "outputs": []
    },
    {
      "cell_type": "code",
      "source": [
        "history = autoencoder.fit(normal_train_data, normal_train_data, \n",
        "          epochs=10, \n",
        "          batch_size=512,\n",
        "          validation_data=(test_data, test_data),\n",
        "          shuffle=True)"
      ],
      "metadata": {
        "colab": {
          "base_uri": "https://localhost:8080/"
        },
        "id": "vHunf7qOtiXn",
        "outputId": "b6dcf5ba-c50e-4c92-d2a4-baafbfa2cc8c"
      },
      "execution_count": 92,
      "outputs": [
        {
          "output_type": "stream",
          "name": "stdout",
          "text": [
            "Epoch 1/10\n",
            "313/313 [==============================] - 7s 18ms/step - loss: 0.0224 - val_loss: 0.0064\n",
            "Epoch 2/10\n",
            "313/313 [==============================] - 3s 10ms/step - loss: 0.0044 - val_loss: 0.0035\n",
            "Epoch 3/10\n",
            "313/313 [==============================] - 4s 11ms/step - loss: 0.0031 - val_loss: 0.0028\n",
            "Epoch 4/10\n",
            "313/313 [==============================] - 4s 12ms/step - loss: 0.0024 - val_loss: 0.0023\n",
            "Epoch 5/10\n",
            "313/313 [==============================] - 4s 12ms/step - loss: 0.0021 - val_loss: 0.0020\n",
            "Epoch 6/10\n",
            "313/313 [==============================] - 3s 10ms/step - loss: 0.0020 - val_loss: 0.0020\n",
            "Epoch 7/10\n",
            "313/313 [==============================] - 4s 11ms/step - loss: 0.0019 - val_loss: 0.0019\n",
            "Epoch 8/10\n",
            "313/313 [==============================] - 3s 10ms/step - loss: 0.0018 - val_loss: 0.0019\n",
            "Epoch 9/10\n",
            "313/313 [==============================] - 3s 10ms/step - loss: 0.0018 - val_loss: 0.0018\n",
            "Epoch 10/10\n",
            "313/313 [==============================] - 3s 10ms/step - loss: 0.0017 - val_loss: 0.0017\n"
          ]
        }
      ]
    },
    {
      "cell_type": "code",
      "source": [
        "plt.plot(history.history[\"loss\"], label=\"Training Loss\")\n",
        "plt.plot(history.history[\"val_loss\"], label=\"Validation Loss\")\n",
        "plt.legend()"
      ],
      "metadata": {
        "id": "tec8wx3wns7G",
        "colab": {
          "base_uri": "https://localhost:8080/",
          "height": 282
        },
        "outputId": "80b9c70c-295c-451e-f340-32e702bdebf6"
      },
      "execution_count": 93,
      "outputs": [
        {
          "output_type": "execute_result",
          "data": {
            "text/plain": [
              "<matplotlib.legend.Legend at 0x7fe9d3681050>"
            ]
          },
          "metadata": {},
          "execution_count": 93
        },
        {
          "output_type": "display_data",
          "data": {
            "text/plain": [
              "<Figure size 432x288 with 1 Axes>"
            ],
            "image/png": "[encoded data removed]"
          },
          "metadata": {}
        }
      ]
    },
    {
      "cell_type": "markdown",
      "source": [
        "errores de reconstruccion normales (CONTINUA) en training"
      ],
      "metadata": {
        "id": "MLzsLXUSFMaH"
      }
    },
    {
      "cell_type": "code",
      "source": [
        "reconstructions = autoencoder.predict(normal_train_data)"
      ],
      "metadata": {
        "id": "yJ1lp6eN6j49"
      },
      "execution_count": null,
      "outputs": []
    },
    {
      "cell_type": "code",
      "source": [
        "#\n",
        "train_loss_mse = tf.keras.losses.mse(reconstructions, normal_train_data)\n",
        "train_loss_mae = tf.keras.losses.mae(reconstructions, normal_train_data)\n",
        "train_loss_msle = tf.keras.losses.msle(reconstructions, normal_train_data)\n",
        "train_loss_mape = tf.keras.losses.mape(reconstructions, normal_train_data)\n"
      ],
      "metadata": {
        "id": "E4RtjEmHns2B"
      },
      "execution_count": 154,
      "outputs": []
    },
    {
      "cell_type": "code",
      "source": [
        "plt.hist(train_loss_mse[None,:], bins=50)\n",
        "#plt.hist(train_loss_mae[None, :],bins=50)\n",
        "#plt.hist(train_loss_msle[None, :],bins=50)\n",
        "#plt.hist(train_loss_mape[None, :],bins=50)\n",
        "\n",
        "plt.xlabel(\"Train loss MSE\")\n",
        "plt.ylabel(\"No of examples\")\n",
        "plt.show()"
      ],
      "metadata": {
        "colab": {
          "base_uri": "https://localhost:8080/",
          "height": 285
        },
        "id": "BcUZy80hC6tO",
        "outputId": "cc7d0cc4-9a41-482a-d67e-0247c2122548"
      },
      "execution_count": 159,
      "outputs": [
        {
          "output_type": "display_data",
          "data": {
            "text/plain": [
              "<Figure size 432x288 with 1 Axes>"
            ],
            "image/png": "[encoded data removed]"
          },
          "metadata": {}
        }
      ]
    },
    {
      "cell_type": "code",
      "source": [
        "#plt.hist(train_loss_mse[None,:], bins=50)\n",
        "plt.hist(train_loss_mae[None, :],bins=50)\n",
        "#plt.hist(train_loss_msle[None, :],bins=50)\n",
        "#plt.hist(train_loss_mape[None, :],bins=50)\n",
        "\n",
        "plt.xlabel(\"Train loss MAE\")\n",
        "plt.ylabel(\"No of examples\")\n",
        "plt.show()"
      ],
      "metadata": {
        "colab": {
          "base_uri": "https://localhost:8080/",
          "height": 285
        },
        "id": "G0wfiEfVEjRZ",
        "outputId": "770dd36d-69ab-4aea-ee89-b530e4801ec4"
      },
      "execution_count": 160,
      "outputs": [
        {
          "output_type": "display_data",
          "data": {
            "text/plain": [
              "<Figure size 432x288 with 1 Axes>"
            ],
            "image/png": "[encoded data removed]"
          },
          "metadata": {}
        }
      ]
    },
    {
      "cell_type": "code",
      "source": [
        "#plt.hist(train_loss_mse[None,:], bins=50)\n",
        "#plt.hist(train_loss_mae[None, :],bins=50)\n",
        "plt.hist(train_loss_msle[None, :],bins=50)\n",
        "#plt.hist(train_loss_mape[None, :],bins=50)\n",
        "\n",
        "plt.xlabel(\"Train loss MSLE\")\n",
        "plt.ylabel(\"No of examples\")\n",
        "plt.show()"
      ],
      "metadata": {
        "colab": {
          "base_uri": "https://localhost:8080/",
          "height": 285
        },
        "id": "fSrivqVVEjOL",
        "outputId": "1c93cf01-e695-466f-ab6a-54413e84b3da"
      },
      "execution_count": 161,
      "outputs": [
        {
          "output_type": "display_data",
          "data": {
            "text/plain": [
              "<Figure size 432x288 with 1 Axes>"
            ],
            "image/png": "[encoded data removed]"
          },
          "metadata": {}
        }
      ]
    },
    {
      "cell_type": "code",
      "source": [
        "#plt.hist(train_loss_mse[None,:], bins=50)\n",
        "#plt.hist(train_loss_mae[None, :],bins=50)\n",
        "#plt.hist(train_loss_msle[None, :],bins=50)\n",
        "plt.hist(train_loss_mape[None, :],bins=50)\n",
        "\n",
        "plt.xlabel(\"Train loss MAPE\")\n",
        "plt.ylabel(\"No of examples\")\n",
        "plt.show()"
      ],
      "metadata": {
        "colab": {
          "base_uri": "https://localhost:8080/",
          "height": 285
        },
        "id": "BEHh-dkcEjLV",
        "outputId": "063ea676-de81-4618-b24a-005f207c684d"
      },
      "execution_count": 162,
      "outputs": [
        {
          "output_type": "display_data",
          "data": {
            "text/plain": [
              "<Figure size 432x288 with 1 Axes>"
            ],
            "image/png": "[encoded data removed]"
          },
          "metadata": {}
        }
      ]
    },
    {
      "cell_type": "markdown",
      "source": [
        "errores de reconstruccion en training anomalos"
      ],
      "metadata": {
        "id": "5Mm3xg5xFQf7"
      }
    },
    {
      "cell_type": "code",
      "source": [
        "reconstructions = autoencoder.predict(anomalous_train_data)\n",
        "test_loss = tf.keras.losses.mae(reconstructions, anomalous_train_data)\n",
        "\n",
        "plt.hist(test_loss[None, :], bins=50)\n",
        "plt.xlabel(\"Test loss\")\n",
        "plt.ylabel(\"No of examples\")\n",
        "plt.show()"
      ],
      "metadata": {
        "colab": {
          "base_uri": "https://localhost:8080/",
          "height": 302
        },
        "id": "E6W9JjaME5M7",
        "outputId": "0b06d60d-aa6e-4906-a2d1-4032eaf00b15"
      },
      "execution_count": 163,
      "outputs": [
        {
          "output_type": "stream",
          "name": "stdout",
          "text": [
            "48/48 [==============================] - 0s 2ms/step\n"
          ]
        },
        {
          "output_type": "display_data",
          "data": {
            "text/plain": [
              "<Figure size 432x288 with 1 Axes>"
            ],
            "image/png": "[encoded data removed]"
          },
          "metadata": {}
        }
      ]
    },
    {
      "cell_type": "code",
      "source": [
        "anomalous_loss_mape = tf.keras.losses.mape(reconstructions, anomalous_train_data)\n",
        "plt.hist(anomalous_loss_mape[None, :],bins=50)\n",
        "\n",
        "plt.xlabel(\"Anomalous Train loss MAPE\")\n",
        "plt.ylabel(\"No of examples\")\n",
        "plt.show()"
      ],
      "metadata": {
        "colab": {
          "base_uri": "https://localhost:8080/",
          "height": 285
        },
        "id": "YXyat1kvE5Kl",
        "outputId": "513de252-75b3-4ee6-eb0c-346391f5e228"
      },
      "execution_count": 164,
      "outputs": [
        {
          "output_type": "display_data",
          "data": {
            "text/plain": [
              "<Figure size 432x288 with 1 Axes>"
            ],
            "image/png": "[encoded data removed]"
          },
          "metadata": {}
        }
      ]
    },
    {
      "cell_type": "code",
      "source": [
        "def ganancia (normal,anormal):\n",
        "    gan = 78000*anormal-2000*normal\n",
        "    return gan\n",
        "\n",
        "\n",
        "\n",
        "def corte (normal,anormal):\n",
        "\n",
        "    ganancia_max = -2000000\n",
        "    threshold = None\n",
        "    cantidad_envios= None\n",
        "\n",
        "    for c in np.arange(2500000,20000000,500000):\n",
        "        cant_normal = np.count_nonzero(normal > c)\n",
        "        cant_anormal = np.count_nonzero( anormal > c)\n",
        "        gan = ganancia (cant_normal,cant_anormal)\n",
        "        if gan >ganancia_max:\n",
        "            threshold = c\n",
        "            ganancia_max = gan\n",
        "            cantidad_envios = cant_normal+cant_anormal\n",
        "    return threshold,ganancia_max,cantidad_envios"
      ],
      "metadata": {
        "id": "pFyrQFnGE5II"
      },
      "execution_count": 187,
      "outputs": []
    },
    {
      "cell_type": "code",
      "source": [
        "anormal = anomalous_loss_mape.numpy()\n",
        "normal = train_loss_mape.numpy()\n",
        "\n",
        "c, ganancia, envios = corte(normal,anormal) # en base a entrenamiento saco mi mejor punto de corte que maximiza mi ganancia"
      ],
      "metadata": {
        "id": "33STgEoAE5FG"
      },
      "execution_count": 188,
      "outputs": []
    },
    {
      "cell_type": "code",
      "source": [
        "c"
      ],
      "metadata": {
        "colab": {
          "base_uri": "https://localhost:8080/"
        },
        "id": "8SUJf-4cEjIm",
        "outputId": "663990cc-04f0-475d-9d3c-bb9338171efe"
      },
      "execution_count": 189,
      "outputs": [
        {
          "output_type": "execute_result",
          "data": {
            "text/plain": [
              "8500000"
            ]
          },
          "metadata": {},
          "execution_count": 189
        }
      ]
    },
    {
      "cell_type": "code",
      "source": [
        "ganancia"
      ],
      "metadata": {
        "colab": {
          "base_uri": "https://localhost:8080/"
        },
        "id": "t3w4nCSTEjB4",
        "outputId": "cab77d23-1365-42cf-f618-c397d2c8793c"
      },
      "execution_count": 190,
      "outputs": [
        {
          "output_type": "execute_result",
          "data": {
            "text/plain": [
              "1842000"
            ]
          },
          "metadata": {},
          "execution_count": 190
        }
      ]
    },
    {
      "cell_type": "code",
      "source": [
        "envios"
      ],
      "metadata": {
        "id": "lJHDooZojEnx",
        "colab": {
          "base_uri": "https://localhost:8080/"
        },
        "outputId": "e078a604-7a3e-4393-d93b-0db239bd784a"
      },
      "execution_count": 191,
      "outputs": [
        {
          "output_type": "execute_result",
          "data": {
            "text/plain": [
              "199"
            ]
          },
          "metadata": {},
          "execution_count": 191
        }
      ]
    }
  ]
}